{
 "cells": [
  {
   "cell_type": "code",
   "execution_count": 3,
   "id": "5074cbcb",
   "metadata": {},
   "outputs": [
    {
     "name": "stderr",
     "output_type": "stream",
     "text": [
      "2025-10-25 22:03:36.704 No runtime found, using MemoryCacheStorageManager\n",
      "2025-10-25 22:03:36.712 Thread 'MainThread': missing ScriptRunContext! This warning can be ignored when running in bare mode.\n",
      "2025-10-25 22:03:36.712 Thread 'MainThread': missing ScriptRunContext! This warning can be ignored when running in bare mode.\n",
      "2025-10-25 22:03:36.713 Thread 'MainThread': missing ScriptRunContext! This warning can be ignored when running in bare mode.\n"
     ]
    },
    {
     "data": {
      "text/plain": [
       "DeltaGenerator()"
      ]
     },
     "execution_count": 3,
     "metadata": {},
     "output_type": "execute_result"
    }
   ],
   "source": [
    "# === Dataset source: merged CSV (Jupyter & Streamlit compatible) ===\n",
    "import altair as alt\n",
    "import re\n",
    "from pathlib import Path\n",
    "import pandas as pd, numpy as np\n",
    "import streamlit as st\n",
    "\n",
    "# 1) BASE 경로: .py 파일이면 __file__, 노트북이면 CWD 사용\n",
    "try:\n",
    "    BASE = Path(__file__).parent\n",
    "except NameError:\n",
    "    BASE = Path.cwd()\n",
    "\n",
    "# 2) 후보 경로에서 CSV 검색 (존재하는 첫 파일 사용)\n",
    "CANDIDATES = [\n",
    "    BASE / \"spotify_merged.csv\",                          # 권장: 루트에 두기\n",
    "    BASE / \"data\" / \"raw\" / \"spotify_merged.csv\",\n",
    "    BASE / \"spotify_cleaned_final_v2.csv\",                # 백업: 정제 CSV (있다면)\n",
    "    BASE / \"data\" / \"raw\" / \"spotify_cleaned_final_v2.csv\",\n",
    "]\n",
    "CSV_PATH = next((p for p in CANDIDATES if p.exists()), None)\n",
    "if CSV_PATH is None:\n",
    "    st.error(\"❌ merged CSV를 찾지 못했습니다. `spotify_merged.csv`를 프로젝트 루트(또는 data/raw)에 두세요.\")\n",
    "    st.stop()\n",
    "\n",
    "@st.cache_data(show_spinner=False)\n",
    "def load_merged_csv(path: Path):\n",
    "    \"\"\"원본+매출지표 병합 CSV 로더\n",
    "    - df_raw: 원본 그대로 (KPI/프리뷰/결측치 표시에 사용)\n",
    "    - df: 차트용 작업본 (원본 열수에 영향 없이 파생만 추가)\n",
    "    \"\"\"\n",
    "    df_raw = pd.read_csv(path)\n",
    "\n",
    "    # 작업본 복사\n",
    "    dfx = df_raw.copy()\n",
    "\n",
    "    # revenue_num: 문자→숫자 (₩, 콤마 제거)\n",
    "    if \"revenue\" in dfx.columns:\n",
    "        def to_number(x):\n",
    "            if pd.isna(x): return np.nan\n",
    "            s = re.sub(r\"[^0-9.\\-]\", \"\", str(x))\n",
    "            return float(s) if s else np.nan\n",
    "        dfx[\"revenue_num\"] = dfx[\"revenue\"].map(to_number)\n",
    "\n",
    "    # 요금제 표준화 컬럼\n",
    "    plan_col = next((c for c in [\"subscription_plan\",\"spotify_subscription_plan\",\"subscription_plan_norm\"]\n",
    "                     if c in dfx.columns), None)\n",
    "    if plan_col and \"subscription_plan_norm\" not in dfx.columns:\n",
    "        dfx[\"subscription_plan_norm\"] = dfx[plan_col].astype(str)\n",
    "\n",
    "    # month 문자열화(Altair 정렬 일관성)\n",
    "    if \"month\" in dfx.columns:\n",
    "        dfx[\"month\"] = dfx[\"month\"].astype(str)\n",
    "\n",
    "    return df_raw, dfx\n",
    "\n",
    "# 3) 실제 로드 (여기서 반드시 df_raw/df를 생성해야 아래에서 사용 가능)\n",
    "try:\n",
    "    df_raw, df = load_merged_csv(CSV_PATH)\n",
    "except Exception as e:\n",
    "    st.error(f\"데이터 로드 실패: {e}\")\n",
    "    st.stop()\n",
    "\n",
    "# 4) 디버깅/확인용 캡션 (원하면 지워도 됨)\n",
    "st.caption(f\"✅ CSV 로드: {CSV_PATH.name} — {len(df_raw):,}행 × {len(df_raw.columns)}열 (원본 기준)\")"
   ]
  }
 ],
 "metadata": {
  "kernelspec": {
   "display_name": "Python 3",
   "language": "python",
   "name": "python3"
  },
  "language_info": {
   "codemirror_mode": {
    "name": "ipython",
    "version": 3
   },
   "file_extension": ".py",
   "mimetype": "text/x-python",
   "name": "python",
   "nbconvert_exporter": "python",
   "pygments_lexer": "ipython3",
   "version": "3.13.5"
  }
 },
 "nbformat": 4,
 "nbformat_minor": 5
}
